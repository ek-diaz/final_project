{
 "cells": [
  {
   "cell_type": "code",
   "execution_count": 1,
   "metadata": {},
   "outputs": [],
   "source": [
    "import pandas as pd"
   ]
  },
  {
   "cell_type": "code",
   "execution_count": 2,
   "metadata": {},
   "outputs": [],
   "source": [
    "# This code snippet is reading an Excel file named 'datos.xlsx' and loading all sheets into a dictionary called `sheets_dict`. The `sheet_name=None` parameter indicates that all sheets will be read.\n",
    "sheets_dict = pd.read_excel('data/datos.xlsx', sheet_name = None)\n",
    "df_list = []\n",
    "\n",
    "for sheet_name, sheet_df in sheets_dict.items():\n",
    "    sheet_df['Cliente'] = sheet_name\n",
    "    df_list.append(sheet_df)"
   ]
  },
  {
   "cell_type": "code",
   "execution_count": 3,
   "metadata": {},
   "outputs": [
    {
     "name": "stdout",
     "output_type": "stream",
     "text": [
      "                     Fecha    Presion  Temperatura     Volumen    Cliente\n",
      "0      2019-01-14 00:00:00  17.732563    28.209354   20.969751   CLIENTE1\n",
      "1      2019-01-14 01:00:00  17.747776    28.518614   17.845739   CLIENTE1\n",
      "2      2019-01-14 02:00:00  17.758916    28.230191   20.975914   CLIENTE1\n",
      "3      2019-01-14 03:00:00  17.727940    27.811509   20.592299   CLIENTE1\n",
      "4      2019-01-14 04:00:00  17.746484    27.795293   21.690626   CLIENTE1\n",
      "...                    ...        ...          ...         ...        ...\n",
      "847955 2023-12-31 19:00:00  15.751139    27.460652  204.457549  CLIENTE20\n",
      "847956 2023-12-31 20:00:00  15.614858    27.010382  186.512096  CLIENTE20\n",
      "847957 2023-12-31 21:00:00  15.598944    26.709100  204.456461  CLIENTE20\n",
      "847958 2023-12-31 22:00:00  15.730040    27.266090  203.695596  CLIENTE20\n",
      "847959 2023-12-31 23:00:00  15.624457    27.481288  201.534548  CLIENTE20\n",
      "\n",
      "[847960 rows x 5 columns]\n"
     ]
    }
   ],
   "source": [
    "# Concatenando todos los df en uno solo\n",
    "df = pd.concat(df_list, ignore_index=True)\n",
    "print(df)"
   ]
  },
  {
   "cell_type": "code",
   "execution_count": 4,
   "metadata": {},
   "outputs": [
    {
     "name": "stdout",
     "output_type": "stream",
     "text": [
      "<class 'pandas.core.frame.DataFrame'>\n",
      "RangeIndex: 847960 entries, 0 to 847959\n",
      "Data columns (total 5 columns):\n",
      " #   Column       Non-Null Count   Dtype         \n",
      "---  ------       --------------   -----         \n",
      " 0   Fecha        847960 non-null  datetime64[ns]\n",
      " 1   Presion      847960 non-null  float64       \n",
      " 2   Temperatura  847960 non-null  float64       \n",
      " 3   Volumen      847960 non-null  float64       \n",
      " 4   Cliente      847960 non-null  object        \n",
      "dtypes: datetime64[ns](1), float64(3), object(1)\n",
      "memory usage: 32.3+ MB\n"
     ]
    }
   ],
   "source": [
    "df.info()"
   ]
  },
  {
   "cell_type": "code",
   "execution_count": 5,
   "metadata": {},
   "outputs": [
    {
     "data": {
      "text/html": [
       "<div>\n",
       "<style scoped>\n",
       "    .dataframe tbody tr th:only-of-type {\n",
       "        vertical-align: middle;\n",
       "    }\n",
       "\n",
       "    .dataframe tbody tr th {\n",
       "        vertical-align: top;\n",
       "    }\n",
       "\n",
       "    .dataframe thead th {\n",
       "        text-align: right;\n",
       "    }\n",
       "</style>\n",
       "<table border=\"1\" class=\"dataframe\">\n",
       "  <thead>\n",
       "    <tr style=\"text-align: right;\">\n",
       "      <th></th>\n",
       "      <th>count</th>\n",
       "      <th>mean</th>\n",
       "      <th>min</th>\n",
       "      <th>25%</th>\n",
       "      <th>50%</th>\n",
       "      <th>75%</th>\n",
       "      <th>max</th>\n",
       "      <th>std</th>\n",
       "    </tr>\n",
       "  </thead>\n",
       "  <tbody>\n",
       "    <tr>\n",
       "      <th>Fecha</th>\n",
       "      <td>847960</td>\n",
       "      <td>2021-07-08 22:08:19.659418112</td>\n",
       "      <td>2019-01-14 00:00:00</td>\n",
       "      <td>2020-04-13 23:00:00</td>\n",
       "      <td>2021-07-07 06:00:00</td>\n",
       "      <td>2022-10-06 02:15:00</td>\n",
       "      <td>2023-12-31 23:00:00</td>\n",
       "      <td>NaN</td>\n",
       "    </tr>\n",
       "    <tr>\n",
       "      <th>Presion</th>\n",
       "      <td>847960.0</td>\n",
       "      <td>16.072957</td>\n",
       "      <td>2.934873</td>\n",
       "      <td>17.09735</td>\n",
       "      <td>17.570449</td>\n",
       "      <td>17.694254</td>\n",
       "      <td>20.307852</td>\n",
       "      <td>4.186408</td>\n",
       "    </tr>\n",
       "    <tr>\n",
       "      <th>Temperatura</th>\n",
       "      <td>847960.0</td>\n",
       "      <td>25.198239</td>\n",
       "      <td>-5.257899</td>\n",
       "      <td>22.693027</td>\n",
       "      <td>25.379859</td>\n",
       "      <td>27.886244</td>\n",
       "      <td>50.019853</td>\n",
       "      <td>3.790497</td>\n",
       "    </tr>\n",
       "    <tr>\n",
       "      <th>Volumen</th>\n",
       "      <td>847960.0</td>\n",
       "      <td>62.328206</td>\n",
       "      <td>0.0</td>\n",
       "      <td>0.0</td>\n",
       "      <td>21.773567</td>\n",
       "      <td>99.319649</td>\n",
       "      <td>577.413425</td>\n",
       "      <td>80.498112</td>\n",
       "    </tr>\n",
       "  </tbody>\n",
       "</table>\n",
       "</div>"
      ],
      "text/plain": [
       "                count                           mean                  min  \\\n",
       "Fecha          847960  2021-07-08 22:08:19.659418112  2019-01-14 00:00:00   \n",
       "Presion      847960.0                      16.072957             2.934873   \n",
       "Temperatura  847960.0                      25.198239            -5.257899   \n",
       "Volumen      847960.0                      62.328206                  0.0   \n",
       "\n",
       "                             25%                  50%                  75%  \\\n",
       "Fecha        2020-04-13 23:00:00  2021-07-07 06:00:00  2022-10-06 02:15:00   \n",
       "Presion                 17.09735            17.570449            17.694254   \n",
       "Temperatura            22.693027            25.379859            27.886244   \n",
       "Volumen                      0.0            21.773567            99.319649   \n",
       "\n",
       "                             max        std  \n",
       "Fecha        2023-12-31 23:00:00        NaN  \n",
       "Presion                20.307852   4.186408  \n",
       "Temperatura            50.019853   3.790497  \n",
       "Volumen               577.413425  80.498112  "
      ]
     },
     "execution_count": 5,
     "metadata": {},
     "output_type": "execute_result"
    }
   ],
   "source": [
    "df.describe().T"
   ]
  }
 ],
 "metadata": {
  "kernelspec": {
   "display_name": "base",
   "language": "python",
   "name": "python3"
  },
  "language_info": {
   "codemirror_mode": {
    "name": "ipython",
    "version": 3
   },
   "file_extension": ".py",
   "mimetype": "text/x-python",
   "name": "python",
   "nbconvert_exporter": "python",
   "pygments_lexer": "ipython3",
   "version": "3.11.7"
  }
 },
 "nbformat": 4,
 "nbformat_minor": 2
}
